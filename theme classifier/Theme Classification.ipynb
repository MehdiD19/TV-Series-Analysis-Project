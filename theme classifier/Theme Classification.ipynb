{
 "cells": [
  {
   "cell_type": "code",
   "execution_count": 2,
   "metadata": {},
   "outputs": [],
   "source": [
    "#Theme classification with Zero Shot Classification\n",
    "\n",
    "#The goal is to be able to input some themes and it will tell you how much each them is occuring on the TV Show using the transcript"
   ]
  },
  {
   "cell_type": "code",
   "execution_count": 3,
   "metadata": {},
   "outputs": [],
   "source": [
    "#Zero Shot Classifier \n",
    "\n",
    "#You can imput every them which is a special type of classification\n",
    "#For example you give a premises and hypotesis and it will give three classes, entailment, neutral and contradiction"
   ]
  },
  {
   "cell_type": "code",
   "execution_count": 4,
   "metadata": {},
   "outputs": [],
   "source": [
    "from transformers import pipeline\n",
    "from nltk import sent_tokenize\n",
    "import nltk \n",
    "import torch\n",
    "import csv\n",
    "import pandas as pd\n",
    "import numpy as np\n",
    "\n"
   ]
  },
  {
   "cell_type": "code",
   "execution_count": 5,
   "metadata": {},
   "outputs": [
    {
     "name": "stderr",
     "output_type": "stream",
     "text": [
      "[nltk_data] Downloading package punkt to\n",
      "[nltk_data]     C:\\Users\\a\\AppData\\Roaming\\nltk_data...\n",
      "[nltk_data]   Package punkt is already up-to-date!\n"
     ]
    },
    {
     "data": {
      "text/plain": [
       "True"
      ]
     },
     "execution_count": 5,
     "metadata": {},
     "output_type": "execute_result"
    }
   ],
   "source": [
    "nltk.download('punkt')"
   ]
  },
  {
   "cell_type": "markdown",
   "metadata": {},
   "source": [
    "# Load the Model"
   ]
  },
  {
   "cell_type": "code",
   "execution_count": 6,
   "metadata": {},
   "outputs": [],
   "source": [
    "model_name = \"facebook/bart-large-mnli\"\n",
    "device = 0 if torch.cuda.is_available() else 'cpu'"
   ]
  },
  {
   "cell_type": "code",
   "execution_count": 7,
   "metadata": {},
   "outputs": [],
   "source": [
    "def load_model(device):\n",
    "    theme_classifier = pipeline(\"zero-shot-classification\", model = model_name, device=device) #Leaving global variable for model name because we are going to use a class\n",
    "    return theme_classifier"
   ]
  },
  {
   "cell_type": "code",
   "execution_count": 8,
   "metadata": {},
   "outputs": [
    {
     "name": "stderr",
     "output_type": "stream",
     "text": [
      "C:\\Users\\a\\AppData\\Local\\Packages\\PythonSoftwareFoundation.Python.3.11_qbz5n2kfra8p0\\LocalCache\\local-packages\\Python311\\site-packages\\transformers\\tokenization_utils_base.py:1601: FutureWarning: `clean_up_tokenization_spaces` was not set. It will be set to `True` by default. This behavior will be depracted in transformers v4.45, and will be then set to `False` by default. For more details check this issue: https://github.com/huggingface/transformers/issues/31884\n",
      "  warnings.warn(\n"
     ]
    }
   ],
   "source": [
    "theme_classifier = load_model(device)"
   ]
  },
  {
   "cell_type": "code",
   "execution_count": 9,
   "metadata": {},
   "outputs": [],
   "source": [
    "theme_list=[\"love\", \"anger\", \"fear\", \"gridiness\", \"generosity\", \"jealousy\", \"envy\", \"kindness\", \"cruelty\", \"hope\", \"distrust\", \"loyalty\", \"betrayal\", \"friendship\", \"hate\", \"forgiveness\", \"revenge\", \"justice\", \"injustice\"]"
   ]
  },
  {
   "cell_type": "code",
   "execution_count": 10,
   "metadata": {},
   "outputs": [
    {
     "data": {
      "text/plain": [
       "[{'sequence': 'love',\n",
       "  'labels': ['I hate you !!'],\n",
       "  'scores': [9.677460911916569e-05]},\n",
       " {'sequence': 'anger',\n",
       "  'labels': ['I hate you !!'],\n",
       "  'scores': [0.4929245710372925]},\n",
       " {'sequence': 'fear',\n",
       "  'labels': ['I hate you !!'],\n",
       "  'scores': [0.11976277828216553]},\n",
       " {'sequence': 'gridiness',\n",
       "  'labels': ['I hate you !!'],\n",
       "  'scores': [0.09538835287094116]},\n",
       " {'sequence': 'generosity',\n",
       "  'labels': ['I hate you !!'],\n",
       "  'scores': [4.981039455742575e-05]},\n",
       " {'sequence': 'jealousy',\n",
       "  'labels': ['I hate you !!'],\n",
       "  'scores': [0.04291082173585892]},\n",
       " {'sequence': 'envy',\n",
       "  'labels': ['I hate you !!'],\n",
       "  'scores': [0.13140051066875458]},\n",
       " {'sequence': 'kindness',\n",
       "  'labels': ['I hate you !!'],\n",
       "  'scores': [4.624186476576142e-05]},\n",
       " {'sequence': 'cruelty',\n",
       "  'labels': ['I hate you !!'],\n",
       "  'scores': [0.33941856026649475]},\n",
       " {'sequence': 'hope',\n",
       "  'labels': ['I hate you !!'],\n",
       "  'scores': [7.615565846208483e-05]},\n",
       " {'sequence': 'distrust',\n",
       "  'labels': ['I hate you !!'],\n",
       "  'scores': [0.39458024501800537]},\n",
       " {'sequence': 'loyalty',\n",
       "  'labels': ['I hate you !!'],\n",
       "  'scores': [5.8020377764478326e-05]},\n",
       " {'sequence': 'betrayal',\n",
       "  'labels': ['I hate you !!'],\n",
       "  'scores': [0.5814992785453796]},\n",
       " {'sequence': 'friendship',\n",
       "  'labels': ['I hate you !!'],\n",
       "  'scores': [6.78328942740336e-05]},\n",
       " {'sequence': 'hate',\n",
       "  'labels': ['I hate you !!'],\n",
       "  'scores': [0.988635778427124]},\n",
       " {'sequence': 'forgiveness',\n",
       "  'labels': ['I hate you !!'],\n",
       "  'scores': [8.973609510576352e-05]},\n",
       " {'sequence': 'revenge',\n",
       "  'labels': ['I hate you !!'],\n",
       "  'scores': [0.2965494692325592]},\n",
       " {'sequence': 'justice',\n",
       "  'labels': ['I hate you !!'],\n",
       "  'scores': [0.0005317323957569897]},\n",
       " {'sequence': 'injustice',\n",
       "  'labels': ['I hate you !!'],\n",
       "  'scores': [0.31461918354034424]}]"
      ]
     },
     "execution_count": 10,
     "metadata": {},
     "output_type": "execute_result"
    }
   ],
   "source": [
    "theme_classifier(theme_list, \" I hate you !!\", multi_label=True)"
   ]
  },
  {
   "cell_type": "markdown",
   "metadata": {},
   "source": [
    "# Load the Data Set \n"
   ]
  },
  {
   "cell_type": "code",
   "execution_count": 11,
   "metadata": {},
   "outputs": [
    {
     "name": "stdout",
     "output_type": "stream",
     "text": [
      "   part                                             script\n",
      "0     1  Where am I? Where the fuck am I?\\nLogan? It’s ...\n",
      "1     2  We need to know what’s happening. There are hu...\n",
      "2     3  What about Dad??\\nYeah, your dad. Hence the de...\n",
      "3     4  Fuck you!\\nYeah?\\nFuck you.\\nYeah?\\nFuck you!\\...\n",
      "4     5  No, sir … That’s actually anti-racist and also...\n",
      "5     6  Are you alright? I hardly touched him, it’s th...\n",
      "6     7  Yeah well, sorry for missing you. What – the f...\n",
      "7     8  Oh, Dad? That’s— It’s insulting.\\nAlright. Ger...\n",
      "8     9  Uh-huh?\\nNo?\\nI just think, maybe, Church and ...\n",
      "9    10  Yes. So. Thank you for your time.\\nYou don’t w...\n"
     ]
    }
   ],
   "source": [
    "#File path \n",
    "\n",
    "file_path = \"C:/Users/a/Desktop/Programmation/TV Series Analysis Project/Data/transcripts.csv\"\n",
    "\n",
    "#Read the file\n",
    "\n",
    "df = pd.read_csv(file_path)\n",
    "\n",
    "df.head()\n",
    "\n",
    "#Get rid of the the 1st column\n",
    "\n",
    "df = df.drop(df.columns[0], axis=1)\n",
    "\n",
    "# Convert all entries to strings and replace NaN with an empty string\n",
    "df = df.fillna(\"\").astype(str)\n",
    "\n",
    "#Divide the transcript into 10 scripts of equal length \n",
    "\n",
    "total_lines = len(df)\n",
    "lines_per_script = total_lines // 10\n",
    "\n",
    "# Initialize lists to store the script numbers and concatenated scripts\n",
    "script_numbers = []\n",
    "scripts = []\n",
    "\n",
    "# Loop through the DataFrame and create the scripts\n",
    "for i in range(10):\n",
    "    start_index = i * lines_per_script\n",
    "    end_index = (i + 1) * lines_per_script if i < 9 else total_lines\n",
    "    script = \"\\n\".join(df.iloc[start_index:end_index, 0].tolist())\n",
    "    script_numbers.append(i + 1)\n",
    "    scripts.append(script)\n",
    "\n",
    "# Create the new DataFrame\n",
    "new_df = pd.DataFrame({\n",
    "    \"part\": script_numbers,\n",
    "    \"script\": scripts\n",
    "})\n",
    "\n",
    "# Display the new DataFrame\n",
    "print(new_df)\n",
    "\n"
   ]
  },
  {
   "cell_type": "markdown",
   "metadata": {},
   "source": [
    "# Run the model "
   ]
  },
  {
   "cell_type": "code",
   "execution_count": 12,
   "metadata": {},
   "outputs": [],
   "source": [
    "script = new_df.iloc[0][\"script\"]\n"
   ]
  },
  {
   "cell_type": "code",
   "execution_count": 13,
   "metadata": {},
   "outputs": [
    {
     "data": {
      "text/plain": [
       "['Where am I?', 'Where the fuck am I?', 'Logan?']"
      ]
     },
     "execution_count": 13,
     "metadata": {},
     "output_type": "execute_result"
    }
   ],
   "source": [
    "script_sentences = sent_tokenize(script)\n",
    "script_sentences[:3]"
   ]
  },
  {
   "cell_type": "code",
   "execution_count": 14,
   "metadata": {},
   "outputs": [],
   "source": [
    "#Batch Sentence\n",
    "sentence_batch_size=20 \n",
    "script_batches=[]\n",
    "for index in range(0, len(script_sentences), sentence_batch_size):\n",
    "    sent=\" \".join(script_sentences[index:index+sentence_batch_size])\n",
    "    script_batches.append(sent)\n"
   ]
  },
  {
   "cell_type": "code",
   "execution_count": 15,
   "metadata": {},
   "outputs": [
    {
     "data": {
      "text/plain": [
       "['Where am I? Where the fuck am I? Logan? It’s okay, Logan. Ugh. Okay. Okay. It’s okay. Where am I? It’s okay. We’re in the new place. It’s okay, Logan. Waystar Royco is a family. A family that spans four continents, fifty countries, three divisions: Entertainment, News and Resorts. Working together. To provide a net that can hold the world, or catapult it forward. To the next adventure! USA Today The Correspondent— Chicago Daily—\\nJoining Waystar Royco you’re joining one of the most dynamic news and entertainment companies in the world. Feel it! ™\\nHow we feeling.',\n",
       " 'Ready to go? Okay? You in the room? Uh-huh. Yep. And who are you playing today? I’m not playing anyone. I   Doderick. And Doderick is? Doderick is mild-mannered to a fault. Puppyish in my enthusiasms. Playful, eager and lacking in guile. I am the best friend to all I meet. Okay. Let’s go, folks! Brooklyn, Bronx, Queens and Staten From the Battery to the tip of Manhattan Asian, Middle Eastern and Latin, Black, White, New York, you make it happen! Apologies, Fikret. Yeah? Hey hey hey, man! Good to see you.']"
      ]
     },
     "execution_count": 15,
     "metadata": {},
     "output_type": "execute_result"
    }
   ],
   "source": [
    "script_batches[:2]"
   ]
  },
  {
   "cell_type": "code",
   "execution_count": 16,
   "metadata": {},
   "outputs": [
    {
     "data": {
      "text/plain": [
       "[{'sequence': 'Where am I? Where the fuck am I? Logan? It’s okay, Logan. Ugh. Okay. Okay. It’s okay. Where am I? It’s okay. We’re in the new place. It’s okay, Logan. Waystar Royco is a family. A family that spans four continents, fifty countries, three divisions: Entertainment, News and Resorts. Working together. To provide a net that can hold the world, or catapult it forward. To the next adventure! USA Today The Correspondent— Chicago Daily—\\nJoining Waystar Royco you’re joining one of the most dynamic news and entertainment companies in the world. Feel it! ™\\nHow we feeling.',\n",
       "  'labels': ['distrust',\n",
       "   'loyalty',\n",
       "   'kindness',\n",
       "   'generosity',\n",
       "   'fear',\n",
       "   'gridiness',\n",
       "   'friendship',\n",
       "   'hope',\n",
       "   'anger',\n",
       "   'justice',\n",
       "   'love',\n",
       "   'forgiveness',\n",
       "   'envy',\n",
       "   'cruelty',\n",
       "   'injustice',\n",
       "   'jealousy',\n",
       "   'betrayal',\n",
       "   'revenge',\n",
       "   'hate'],\n",
       "  'scores': [0.7736278176307678,\n",
       "   0.7527668476104736,\n",
       "   0.6620371341705322,\n",
       "   0.6555688381195068,\n",
       "   0.638863742351532,\n",
       "   0.6242275834083557,\n",
       "   0.5147905349731445,\n",
       "   0.4943420886993408,\n",
       "   0.44973456859588623,\n",
       "   0.4118732511997223,\n",
       "   0.2867461144924164,\n",
       "   0.24129340052604675,\n",
       "   0.1541825234889984,\n",
       "   0.14618994295597076,\n",
       "   0.12792599201202393,\n",
       "   0.1186198741197586,\n",
       "   0.11324931681156158,\n",
       "   0.06961233168840408,\n",
       "   0.04588866978883743]},\n",
       " {'sequence': 'Ready to go? Okay? You in the room? Uh-huh. Yep. And who are you playing today? I’m not playing anyone. I   Doderick. And Doderick is? Doderick is mild-mannered to a fault. Puppyish in my enthusiasms. Playful, eager and lacking in guile. I am the best friend to all I meet. Okay. Let’s go, folks! Brooklyn, Bronx, Queens and Staten From the Battery to the tip of Manhattan Asian, Middle Eastern and Latin, Black, White, New York, you make it happen! Apologies, Fikret. Yeah? Hey hey hey, man! Good to see you.',\n",
       "  'labels': ['friendship',\n",
       "   'kindness',\n",
       "   'generosity',\n",
       "   'loyalty',\n",
       "   'hope',\n",
       "   'love',\n",
       "   'justice',\n",
       "   'forgiveness',\n",
       "   'gridiness',\n",
       "   'envy',\n",
       "   'distrust',\n",
       "   'jealousy',\n",
       "   'injustice',\n",
       "   'anger',\n",
       "   'betrayal',\n",
       "   'cruelty',\n",
       "   'revenge',\n",
       "   'fear',\n",
       "   'hate'],\n",
       "  'scores': [0.9655182957649231,\n",
       "   0.9485561847686768,\n",
       "   0.83094722032547,\n",
       "   0.7979106307029724,\n",
       "   0.5470919013023376,\n",
       "   0.28002461791038513,\n",
       "   0.23024483025074005,\n",
       "   0.18949587643146515,\n",
       "   0.18315599858760834,\n",
       "   0.10173522680997849,\n",
       "   0.07412779331207275,\n",
       "   0.03657795116305351,\n",
       "   0.02117796242237091,\n",
       "   0.016123689711093903,\n",
       "   0.014565853402018547,\n",
       "   0.012862367555499077,\n",
       "   0.012808390893042088,\n",
       "   0.012589767575263977,\n",
       "   0.002025336492806673]}]"
      ]
     },
     "execution_count": 16,
     "metadata": {},
     "output_type": "execute_result"
    }
   ],
   "source": [
    "theme_ouptut = theme_classifier(script_batches[:2],theme_list, multi_label=True)\n",
    "\n",
    "theme_ouptut"
   ]
  },
  {
   "cell_type": "code",
   "execution_count": 17,
   "metadata": {},
   "outputs": [],
   "source": [
    "#Wrangle the output \n",
    "#We want all scores for the same theme to be in the same row\n",
    "themes={}\n",
    "for output in theme_ouptut:\n",
    "    for label,score in zip(output[\"labels\"], output[\"scores\"]):\n",
    "        if label not in themes:\n",
    "            themes[label]=[]\n",
    "        themes[label].append(score)\n"
   ]
  },
  {
   "cell_type": "code",
   "execution_count": 18,
   "metadata": {},
   "outputs": [],
   "source": [
    "def get_themes_inference(script):\n",
    "    script_sentences = sent_tokenize(script)\n",
    "\n",
    "    sentence_batch_size = 20\n",
    "    script_batches = []\n",
    "    for index in range(0, len(script_sentences), sentence_batch_size):\n",
    "        sent = \" \".join(script_sentences[index:index + sentence_batch_size])\n",
    "        script_batches.append(sent)\n",
    "\n",
    "    #Run the model \n",
    "    theme_output = theme_classifier(script_batches[:2], theme_list, multi_label=True)\n",
    "\n",
    "    #Wrangle the output\n",
    "    themes = {}\n",
    "    for output in theme_output:\n",
    "        for label, score in zip(output[\"labels\"], output[\"scores\"]):\n",
    "            if label not in themes:\n",
    "                themes[label] = []\n",
    "            themes[label].append(score)\n",
    "\n",
    "    #Get the mean of the scores        \n",
    "    themes = {k: np.mean(np.array(v)) for k, v in themes.items()}\n",
    "\n",
    "    return themes"
   ]
  },
  {
   "cell_type": "code",
   "execution_count": null,
   "metadata": {},
   "outputs": [],
   "source": []
  },
  {
   "cell_type": "code",
   "execution_count": 19,
   "metadata": {},
   "outputs": [
    {
     "data": {
      "text/html": [
       "<div>\n",
       "<style scoped>\n",
       "    .dataframe tbody tr th:only-of-type {\n",
       "        vertical-align: middle;\n",
       "    }\n",
       "\n",
       "    .dataframe tbody tr th {\n",
       "        vertical-align: top;\n",
       "    }\n",
       "\n",
       "    .dataframe thead th {\n",
       "        text-align: right;\n",
       "    }\n",
       "</style>\n",
       "<table border=\"1\" class=\"dataframe\">\n",
       "  <thead>\n",
       "    <tr style=\"text-align: right;\">\n",
       "      <th></th>\n",
       "      <th>part</th>\n",
       "      <th>script</th>\n",
       "    </tr>\n",
       "  </thead>\n",
       "  <tbody>\n",
       "    <tr>\n",
       "      <th>0</th>\n",
       "      <td>1</td>\n",
       "      <td>Where am I? Where the fuck am I?\\nLogan? It’s ...</td>\n",
       "    </tr>\n",
       "    <tr>\n",
       "      <th>1</th>\n",
       "      <td>2</td>\n",
       "      <td>We need to know what’s happening. There are hu...</td>\n",
       "    </tr>\n",
       "  </tbody>\n",
       "</table>\n",
       "</div>"
      ],
      "text/plain": [
       "   part                                             script\n",
       "0     1  Where am I? Where the fuck am I?\\nLogan? It’s ...\n",
       "1     2  We need to know what’s happening. There are hu..."
      ]
     },
     "execution_count": 19,
     "metadata": {},
     "output_type": "execute_result"
    }
   ],
   "source": [
    "new_df= new_df.head(2) \n",
    "new_df"
   ]
  },
  {
   "cell_type": "code",
   "execution_count": 20,
   "metadata": {},
   "outputs": [],
   "source": [
    "output_themes = new_df[\"script\"].apply(get_themes_inference)"
   ]
  },
  {
   "cell_type": "code",
   "execution_count": 21,
   "metadata": {},
   "outputs": [
    {
     "data": {
      "text/plain": [
       "0    {'distrust': 0.4238778054714203, 'loyalty': 0....\n",
       "1    {'distrust': 0.8479702472686768, 'loyalty': 0....\n",
       "Name: script, dtype: object"
      ]
     },
     "execution_count": 21,
     "metadata": {},
     "output_type": "execute_result"
    }
   ],
   "source": [
    "output_themes"
   ]
  },
  {
   "cell_type": "code",
   "execution_count": 22,
   "metadata": {},
   "outputs": [],
   "source": [
    "theme_df = pd.DataFrame(output_themes.tolist())"
   ]
  },
  {
   "cell_type": "code",
   "execution_count": 23,
   "metadata": {},
   "outputs": [
    {
     "data": {
      "text/html": [
       "<div>\n",
       "<style scoped>\n",
       "    .dataframe tbody tr th:only-of-type {\n",
       "        vertical-align: middle;\n",
       "    }\n",
       "\n",
       "    .dataframe tbody tr th {\n",
       "        vertical-align: top;\n",
       "    }\n",
       "\n",
       "    .dataframe thead th {\n",
       "        text-align: right;\n",
       "    }\n",
       "</style>\n",
       "<table border=\"1\" class=\"dataframe\">\n",
       "  <thead>\n",
       "    <tr style=\"text-align: right;\">\n",
       "      <th></th>\n",
       "      <th>part</th>\n",
       "      <th>script</th>\n",
       "      <th>distrust</th>\n",
       "      <th>loyalty</th>\n",
       "      <th>kindness</th>\n",
       "      <th>generosity</th>\n",
       "      <th>fear</th>\n",
       "      <th>gridiness</th>\n",
       "      <th>friendship</th>\n",
       "      <th>hope</th>\n",
       "      <th>...</th>\n",
       "      <th>justice</th>\n",
       "      <th>love</th>\n",
       "      <th>forgiveness</th>\n",
       "      <th>envy</th>\n",
       "      <th>cruelty</th>\n",
       "      <th>injustice</th>\n",
       "      <th>jealousy</th>\n",
       "      <th>betrayal</th>\n",
       "      <th>revenge</th>\n",
       "      <th>hate</th>\n",
       "    </tr>\n",
       "  </thead>\n",
       "  <tbody>\n",
       "    <tr>\n",
       "      <th>0</th>\n",
       "      <td>1</td>\n",
       "      <td>Where am I? Where the fuck am I?\\nLogan? It’s ...</td>\n",
       "      <td>0.423878</td>\n",
       "      <td>0.775339</td>\n",
       "      <td>0.805297</td>\n",
       "      <td>0.743258</td>\n",
       "      <td>0.325727</td>\n",
       "      <td>0.403692</td>\n",
       "      <td>0.740154</td>\n",
       "      <td>0.520717</td>\n",
       "      <td>...</td>\n",
       "      <td>0.321059</td>\n",
       "      <td>0.283385</td>\n",
       "      <td>0.215395</td>\n",
       "      <td>0.127959</td>\n",
       "      <td>0.079526</td>\n",
       "      <td>0.074552</td>\n",
       "      <td>0.077599</td>\n",
       "      <td>0.063908</td>\n",
       "      <td>0.041210</td>\n",
       "      <td>0.023957</td>\n",
       "    </tr>\n",
       "    <tr>\n",
       "      <th>1</th>\n",
       "      <td>2</td>\n",
       "      <td>We need to know what’s happening. There are hu...</td>\n",
       "      <td>0.847970</td>\n",
       "      <td>0.654444</td>\n",
       "      <td>0.173407</td>\n",
       "      <td>0.194231</td>\n",
       "      <td>0.740756</td>\n",
       "      <td>0.474819</td>\n",
       "      <td>0.077456</td>\n",
       "      <td>0.194431</td>\n",
       "      <td>...</td>\n",
       "      <td>0.304578</td>\n",
       "      <td>0.036874</td>\n",
       "      <td>0.010659</td>\n",
       "      <td>0.128341</td>\n",
       "      <td>0.470585</td>\n",
       "      <td>0.708314</td>\n",
       "      <td>0.124713</td>\n",
       "      <td>0.704727</td>\n",
       "      <td>0.052247</td>\n",
       "      <td>0.090193</td>\n",
       "    </tr>\n",
       "  </tbody>\n",
       "</table>\n",
       "<p>2 rows × 21 columns</p>\n",
       "</div>"
      ],
      "text/plain": [
       "   part                                             script  distrust   \n",
       "0     1  Where am I? Where the fuck am I?\\nLogan? It’s ...  0.423878  \\\n",
       "1     2  We need to know what’s happening. There are hu...  0.847970   \n",
       "\n",
       "    loyalty  kindness  generosity      fear  gridiness  friendship      hope   \n",
       "0  0.775339  0.805297    0.743258  0.325727   0.403692    0.740154  0.520717  \\\n",
       "1  0.654444  0.173407    0.194231  0.740756   0.474819    0.077456  0.194431   \n",
       "\n",
       "   ...   justice      love  forgiveness      envy   cruelty  injustice   \n",
       "0  ...  0.321059  0.283385     0.215395  0.127959  0.079526   0.074552  \\\n",
       "1  ...  0.304578  0.036874     0.010659  0.128341  0.470585   0.708314   \n",
       "\n",
       "   jealousy  betrayal   revenge      hate  \n",
       "0  0.077599  0.063908  0.041210  0.023957  \n",
       "1  0.124713  0.704727  0.052247  0.090193  \n",
       "\n",
       "[2 rows x 21 columns]"
      ]
     },
     "execution_count": 23,
     "metadata": {},
     "output_type": "execute_result"
    }
   ],
   "source": [
    "new_df[theme_df.columns] = theme_df\n",
    "new_df"
   ]
  },
  {
   "cell_type": "markdown",
   "metadata": {},
   "source": [
    "# Visualize the outputs"
   ]
  },
  {
   "cell_type": "code",
   "execution_count": 24,
   "metadata": {},
   "outputs": [],
   "source": [
    "\n"
   ]
  },
  {
   "cell_type": "code",
   "execution_count": 26,
   "metadata": {},
   "outputs": [],
   "source": [
    "theme_output=new_df.drop([\"part\"], axis=1).sum().reset_index()\n",
    "theme_output.columns=[\"theme\", \"score\"]"
   ]
  },
  {
   "cell_type": "code",
   "execution_count": 27,
   "metadata": {},
   "outputs": [
    {
     "data": {
      "text/html": [
       "<div>\n",
       "<style scoped>\n",
       "    .dataframe tbody tr th:only-of-type {\n",
       "        vertical-align: middle;\n",
       "    }\n",
       "\n",
       "    .dataframe tbody tr th {\n",
       "        vertical-align: top;\n",
       "    }\n",
       "\n",
       "    .dataframe thead th {\n",
       "        text-align: right;\n",
       "    }\n",
       "</style>\n",
       "<table border=\"1\" class=\"dataframe\">\n",
       "  <thead>\n",
       "    <tr style=\"text-align: right;\">\n",
       "      <th></th>\n",
       "      <th>theme</th>\n",
       "      <th>score</th>\n",
       "    </tr>\n",
       "  </thead>\n",
       "  <tbody>\n",
       "    <tr>\n",
       "      <th>0</th>\n",
       "      <td>distrust</td>\n",
       "      <td>1.271848</td>\n",
       "    </tr>\n",
       "    <tr>\n",
       "      <th>1</th>\n",
       "      <td>loyalty</td>\n",
       "      <td>1.429783</td>\n",
       "    </tr>\n",
       "    <tr>\n",
       "      <th>2</th>\n",
       "      <td>kindness</td>\n",
       "      <td>0.978703</td>\n",
       "    </tr>\n",
       "    <tr>\n",
       "      <th>3</th>\n",
       "      <td>generosity</td>\n",
       "      <td>0.937489</td>\n",
       "    </tr>\n",
       "    <tr>\n",
       "      <th>4</th>\n",
       "      <td>fear</td>\n",
       "      <td>1.066483</td>\n",
       "    </tr>\n",
       "    <tr>\n",
       "      <th>5</th>\n",
       "      <td>gridiness</td>\n",
       "      <td>0.878511</td>\n",
       "    </tr>\n",
       "    <tr>\n",
       "      <th>6</th>\n",
       "      <td>friendship</td>\n",
       "      <td>0.817611</td>\n",
       "    </tr>\n",
       "    <tr>\n",
       "      <th>7</th>\n",
       "      <td>hope</td>\n",
       "      <td>0.715148</td>\n",
       "    </tr>\n",
       "    <tr>\n",
       "      <th>8</th>\n",
       "      <td>anger</td>\n",
       "      <td>0.742274</td>\n",
       "    </tr>\n",
       "    <tr>\n",
       "      <th>9</th>\n",
       "      <td>justice</td>\n",
       "      <td>0.625637</td>\n",
       "    </tr>\n",
       "    <tr>\n",
       "      <th>10</th>\n",
       "      <td>love</td>\n",
       "      <td>0.320259</td>\n",
       "    </tr>\n",
       "    <tr>\n",
       "      <th>11</th>\n",
       "      <td>forgiveness</td>\n",
       "      <td>0.226054</td>\n",
       "    </tr>\n",
       "    <tr>\n",
       "      <th>12</th>\n",
       "      <td>envy</td>\n",
       "      <td>0.256300</td>\n",
       "    </tr>\n",
       "    <tr>\n",
       "      <th>13</th>\n",
       "      <td>cruelty</td>\n",
       "      <td>0.550111</td>\n",
       "    </tr>\n",
       "    <tr>\n",
       "      <th>14</th>\n",
       "      <td>injustice</td>\n",
       "      <td>0.782866</td>\n",
       "    </tr>\n",
       "    <tr>\n",
       "      <th>15</th>\n",
       "      <td>jealousy</td>\n",
       "      <td>0.202312</td>\n",
       "    </tr>\n",
       "    <tr>\n",
       "      <th>16</th>\n",
       "      <td>betrayal</td>\n",
       "      <td>0.768634</td>\n",
       "    </tr>\n",
       "    <tr>\n",
       "      <th>17</th>\n",
       "      <td>revenge</td>\n",
       "      <td>0.093457</td>\n",
       "    </tr>\n",
       "    <tr>\n",
       "      <th>18</th>\n",
       "      <td>hate</td>\n",
       "      <td>0.114150</td>\n",
       "    </tr>\n",
       "  </tbody>\n",
       "</table>\n",
       "</div>"
      ],
      "text/plain": [
       "          theme     score\n",
       "0      distrust  1.271848\n",
       "1       loyalty  1.429783\n",
       "2      kindness  0.978703\n",
       "3    generosity  0.937489\n",
       "4          fear  1.066483\n",
       "5     gridiness  0.878511\n",
       "6    friendship  0.817611\n",
       "7          hope  0.715148\n",
       "8         anger  0.742274\n",
       "9       justice  0.625637\n",
       "10         love  0.320259\n",
       "11  forgiveness  0.226054\n",
       "12         envy  0.256300\n",
       "13      cruelty  0.550111\n",
       "14    injustice  0.782866\n",
       "15     jealousy  0.202312\n",
       "16     betrayal  0.768634\n",
       "17      revenge  0.093457\n",
       "18         hate  0.114150"
      ]
     },
     "execution_count": 27,
     "metadata": {},
     "output_type": "execute_result"
    }
   ],
   "source": [
    "theme_output\n"
   ]
  },
  {
   "cell_type": "code",
   "execution_count": 28,
   "metadata": {},
   "outputs": [],
   "source": [
    "import matplotlib.pyplot as plt\n",
    "import seaborn as sns\n"
   ]
  },
  {
   "cell_type": "code",
   "execution_count": 32,
   "metadata": {},
   "outputs": [
    {
     "data": {
      "image/png": "[encoded data removed]",
      "text/plain": [
       "<Figure size 640x480 with 1 Axes>"
      ]
     },
     "metadata": {},
     "output_type": "display_data"
    }
   ],
   "source": [
    "sns.barplot(data=theme_output, x=\"theme\", y=\"score\" )\n",
    "plt.xticks(rotation=90)\n",
    "\n",
    "plt.show()\n"
   ]
  }
 ],
 "metadata": {
  "kernelspec": {
   "display_name": "Python 3",
   "language": "python",
   "name": "python3"
  },
  "language_info": {
   "codemirror_mode": {
    "name": "ipython",
    "version": 3
   },
   "file_extension": ".py",
   "mimetype": "text/x-python",
   "name": "python",
   "nbconvert_exporter": "python",
   "pygments_lexer": "ipython3",
   "version": "3.11.9"
  }
 },
 "nbformat": 4,
 "nbformat_minor": 2
}
